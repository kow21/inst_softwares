{
 "cells": [
  {
   "cell_type": "code",
   "execution_count": null,
   "id": "db744330",
   "metadata": {},
   "outputs": [
    {
     "name": "stdout",
     "output_type": "stream",
     "text": [
      "https://downloads.raspberrypi.org/imager/imager_latest.exe\n",
      "C:\\Users\\gutsa\\Documents\\codes\\inst_softwares\\inst_softwares\\imager_latest.exe\n"
     ]
    },
    {
     "name": "stderr",
     "output_type": "stream",
     "text": [
      "Exception in Tkinter callback\n",
      "Traceback (most recent call last):\n",
      "  File \"C:\\Users\\gutsa\\anaconda3\\lib\\tkinter\\__init__.py\", line 1921, in __call__\n",
      "    return self.func(*args)\n",
      "  File \"C:\\Users\\gutsa\\AppData\\Local\\Temp\\ipykernel_20228\\503885539.py\", line 35, in on_select\n",
      "    self.install_data(\"rpi_imager\")\n",
      "  File \"C:\\Users\\gutsa\\AppData\\Local\\Temp\\ipykernel_20228\\503885539.py\", line 62, in install_data\n",
      "    subprocess.Popen(current_path.joinpath(dl_name), shell=True)\n",
      "  File \"C:\\Users\\gutsa\\anaconda3\\lib\\subprocess.py\", line 971, in __init__\n",
      "    self._execute_child(args, executable, preexec_fn, close_fds,\n",
      "  File \"C:\\Users\\gutsa\\anaconda3\\lib\\subprocess.py\", line 1376, in _execute_child\n",
      "    raise TypeError('path-like args is not allowed when '\n",
      "TypeError: path-like args is not allowed when shell is true\n"
     ]
    }
   ],
   "source": [
    "import tkinter as tk\n",
    "import subprocess\n",
    "import json\n",
    "from pathlib import Path\n",
    "import urllib.request\n",
    "import os\n",
    "\n",
    "class MyApp(tk.Tk):\n",
    "    def __init__(self):\n",
    "        super().__init__()\n",
    "        self.title(\"My App\")\n",
    "        self.geometry(\"300x200\")\n",
    "        self.create_widgets()\n",
    "\n",
    "    def create_widgets(self):\n",
    "        # リストボックスの作成\n",
    "        self.listBox = tk.Listbox(self)\n",
    "        self.listBox.pack(fill=tk.BOTH, expand=True)\n",
    "\n",
    "        # リストボックスに要素を追加\n",
    "        self.listBox.insert(tk.END, \"Raspberry Pi Imager\")\n",
    "        self.listBox.insert(tk.END, \"Item 2\")\n",
    "        self.listBox.insert(tk.END, \"Item 3\")\n",
    "\n",
    "        # リストボックスの要素をクリックしたら、関数を呼び出す\n",
    "        self.listBox.bind(\"<<ListboxSelect>>\", self.on_select)\n",
    "\n",
    "    def on_select(self, event):\n",
    "        # 選択された要素のインデックスを取得\n",
    "        index = self.listBox.curselection()[0]\n",
    "\n",
    "        # 選択された要素に応じたスクリプトを実行\n",
    "        if index == 0:\n",
    "            # subprocess.call([\"python\", \"./inst_scripts/script1.py\", \"rpi_imager\"])\n",
    "            self.install_data(\"rpi_imager\")\n",
    "        elif index == 1:\n",
    "            subprocess.call([\"python\", \"./inst_scripts/script2.py\"])\n",
    "        elif index == 2:\n",
    "            subprocess.call([\"python\", \"./inst_scripts/script3.py\"])\n",
    "            \n",
    "    def install_data(self, inst_soft):\n",
    "        # json読み込み\n",
    "        json_open = open(\"./inst_scripts/inst_URL.json\",\"r\")\n",
    "        json_urls = json.load(json_open)\n",
    "\n",
    "        # URL取得\n",
    "        URL = json_urls[inst_soft]\n",
    "        print(URL)\n",
    "        # URL = \"https://downloads.raspberrypi.org/imager/imager_latest.exe\"\n",
    "\n",
    "\n",
    "        # ファイルパス取得\n",
    "        dl_name = URL.split(\"/\")[-1]\n",
    "        current_path = Path().cwd()\n",
    "        # print(current_path.resolve())\n",
    "        # print(dl_name)\n",
    "\n",
    "        # ファイルのDL、実行\n",
    "        urllib.request.urlretrieve(URL, dl_name)\n",
    "        # os.system(ru)\n",
    "        print(current_path.joinpath(dl_name))\n",
    "        subprocess.Popen(current_path.joinpath(dl_name), shell=True)\n",
    "        # self.runas(current_path.joinpath(dl_name))\n",
    "\n",
    "if __name__ == \"__main__\":\n",
    "    app = MyApp()\n",
    "    app.mainloop()\n"
   ]
  },
  {
   "cell_type": "code",
   "execution_count": 3,
   "id": "3505e672",
   "metadata": {},
   "outputs": [
    {
     "data": {
      "text/plain": [
       "'C:\\\\Users\\\\gutsa\\\\Documents\\\\codes\\\\inst_softwares\\\\inst_softwares'"
      ]
     },
     "execution_count": 3,
     "metadata": {},
     "output_type": "execute_result"
    }
   ],
   "source": [
    "pwd"
   ]
  },
  {
   "cell_type": "code",
   "execution_count": null,
   "id": "6bcd5335",
   "metadata": {},
   "outputs": [],
   "source": []
  }
 ],
 "metadata": {
  "kernelspec": {
   "display_name": "Python 3 (ipykernel)",
   "language": "python",
   "name": "python3"
  },
  "language_info": {
   "codemirror_mode": {
    "name": "ipython",
    "version": 3
   },
   "file_extension": ".py",
   "mimetype": "text/x-python",
   "name": "python",
   "nbconvert_exporter": "python",
   "pygments_lexer": "ipython3",
   "version": "3.10.9"
  }
 },
 "nbformat": 4,
 "nbformat_minor": 5
}
